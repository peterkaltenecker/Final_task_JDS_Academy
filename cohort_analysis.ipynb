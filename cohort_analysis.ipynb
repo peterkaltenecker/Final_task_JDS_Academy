{
 "cells": [
  {
   "cell_type": "markdown",
   "id": "c5711479",
   "metadata": {},
   "source": [
    "# Cohort analysis"
   ]
  },
  {
   "cell_type": "markdown",
   "id": "8b2e6777",
   "metadata": {},
   "source": [
    "As part of the final assigment, I also made a cohort analysis to see whether there is any pattern in the number of returning readers on Dilan's blog.<br>\n",
    "Since this analysis did not reveal useful insights it was not inculded in the solution."
   ]
  },
  {
   "cell_type": "code",
   "execution_count": 1,
   "id": "4424d0dc",
   "metadata": {},
   "outputs": [],
   "source": [
    "import numpy as np\n",
    "import pandas as pd\n",
    "import matplotlib.pyplot as plt\n",
    "%matplotlib inline\n",
    "import seaborn as sns"
   ]
  },
  {
   "cell_type": "markdown",
   "id": "95eb476c",
   "metadata": {},
   "source": [
    "### Data import"
   ]
  },
  {
   "cell_type": "code",
   "execution_count": 2,
   "id": "66b66733",
   "metadata": {},
   "outputs": [],
   "source": [
    "# importing the data of new and returning readers\n",
    "new_readers = pd.read_csv('/.../.../.../new_readers.csv', delimiter = ';', \n",
    "            names = ['my_date', 'my_time', 'event_type', 'country', 'user_id', 'source', 'topic',])\n",
    "\n",
    "ret_readers = pd.read_csv('/.../.../.../ret_readers.csv', delimiter = ';', \n",
    "            names = ['my_date', 'my_time', 'event_type', 'country', 'user_id', 'topic',])"
   ]
  },
  {
   "cell_type": "markdown",
   "id": "2f3b68a2",
   "metadata": {},
   "source": [
    "To check if the data import was correct."
   ]
  },
  {
   "cell_type": "code",
   "execution_count": 3,
   "id": "feb8b779",
   "metadata": {},
   "outputs": [
    {
     "data": {
      "text/html": [
       "<div>\n",
       "<style scoped>\n",
       "    .dataframe tbody tr th:only-of-type {\n",
       "        vertical-align: middle;\n",
       "    }\n",
       "\n",
       "    .dataframe tbody tr th {\n",
       "        vertical-align: top;\n",
       "    }\n",
       "\n",
       "    .dataframe thead th {\n",
       "        text-align: right;\n",
       "    }\n",
       "</style>\n",
       "<table border=\"1\" class=\"dataframe\">\n",
       "  <thead>\n",
       "    <tr style=\"text-align: right;\">\n",
       "      <th></th>\n",
       "      <th>my_date</th>\n",
       "      <th>my_time</th>\n",
       "      <th>event_type</th>\n",
       "      <th>country</th>\n",
       "      <th>user_id</th>\n",
       "      <th>source</th>\n",
       "      <th>topic</th>\n",
       "    </tr>\n",
       "  </thead>\n",
       "  <tbody>\n",
       "    <tr>\n",
       "      <th>0</th>\n",
       "      <td>2018-01-01</td>\n",
       "      <td>00:01:01</td>\n",
       "      <td>read</td>\n",
       "      <td>country_7</td>\n",
       "      <td>2458151261</td>\n",
       "      <td>SEO</td>\n",
       "      <td>North America</td>\n",
       "    </tr>\n",
       "    <tr>\n",
       "      <th>1</th>\n",
       "      <td>2018-01-01</td>\n",
       "      <td>00:03:20</td>\n",
       "      <td>read</td>\n",
       "      <td>country_7</td>\n",
       "      <td>2458151262</td>\n",
       "      <td>SEO</td>\n",
       "      <td>South America</td>\n",
       "    </tr>\n",
       "    <tr>\n",
       "      <th>2</th>\n",
       "      <td>2018-01-01</td>\n",
       "      <td>00:04:01</td>\n",
       "      <td>read</td>\n",
       "      <td>country_7</td>\n",
       "      <td>2458151263</td>\n",
       "      <td>AdWords</td>\n",
       "      <td>Africa</td>\n",
       "    </tr>\n",
       "    <tr>\n",
       "      <th>3</th>\n",
       "      <td>2018-01-01</td>\n",
       "      <td>00:04:02</td>\n",
       "      <td>read</td>\n",
       "      <td>country_7</td>\n",
       "      <td>2458151264</td>\n",
       "      <td>AdWords</td>\n",
       "      <td>Europe</td>\n",
       "    </tr>\n",
       "    <tr>\n",
       "      <th>4</th>\n",
       "      <td>2018-01-01</td>\n",
       "      <td>00:05:03</td>\n",
       "      <td>read</td>\n",
       "      <td>country_8</td>\n",
       "      <td>2458151265</td>\n",
       "      <td>Reddit</td>\n",
       "      <td>North America</td>\n",
       "    </tr>\n",
       "  </tbody>\n",
       "</table>\n",
       "</div>"
      ],
      "text/plain": [
       "      my_date   my_time event_type    country     user_id   source  \\\n",
       "0  2018-01-01  00:01:01       read  country_7  2458151261      SEO   \n",
       "1  2018-01-01  00:03:20       read  country_7  2458151262      SEO   \n",
       "2  2018-01-01  00:04:01       read  country_7  2458151263  AdWords   \n",
       "3  2018-01-01  00:04:02       read  country_7  2458151264  AdWords   \n",
       "4  2018-01-01  00:05:03       read  country_8  2458151265   Reddit   \n",
       "\n",
       "           topic  \n",
       "0  North America  \n",
       "1  South America  \n",
       "2         Africa  \n",
       "3         Europe  \n",
       "4  North America  "
      ]
     },
     "execution_count": 3,
     "metadata": {},
     "output_type": "execute_result"
    }
   ],
   "source": [
    "new_readers.head()"
   ]
  },
  {
   "cell_type": "code",
   "execution_count": 4,
   "id": "c3867475",
   "metadata": {},
   "outputs": [
    {
     "data": {
      "text/html": [
       "<div>\n",
       "<style scoped>\n",
       "    .dataframe tbody tr th:only-of-type {\n",
       "        vertical-align: middle;\n",
       "    }\n",
       "\n",
       "    .dataframe tbody tr th {\n",
       "        vertical-align: top;\n",
       "    }\n",
       "\n",
       "    .dataframe thead th {\n",
       "        text-align: right;\n",
       "    }\n",
       "</style>\n",
       "<table border=\"1\" class=\"dataframe\">\n",
       "  <thead>\n",
       "    <tr style=\"text-align: right;\">\n",
       "      <th></th>\n",
       "      <th>my_date</th>\n",
       "      <th>my_time</th>\n",
       "      <th>event_type</th>\n",
       "      <th>country</th>\n",
       "      <th>user_id</th>\n",
       "      <th>topic</th>\n",
       "    </tr>\n",
       "  </thead>\n",
       "  <tbody>\n",
       "    <tr>\n",
       "      <th>0</th>\n",
       "      <td>2018-01-01</td>\n",
       "      <td>02:20:18</td>\n",
       "      <td>read</td>\n",
       "      <td>country_5</td>\n",
       "      <td>2458151287</td>\n",
       "      <td>North America</td>\n",
       "    </tr>\n",
       "    <tr>\n",
       "      <th>1</th>\n",
       "      <td>2018-01-01</td>\n",
       "      <td>02:53:39</td>\n",
       "      <td>read</td>\n",
       "      <td>country_4</td>\n",
       "      <td>2458151279</td>\n",
       "      <td>Asia</td>\n",
       "    </tr>\n",
       "    <tr>\n",
       "      <th>2</th>\n",
       "      <td>2018-01-01</td>\n",
       "      <td>03:34:22</td>\n",
       "      <td>read</td>\n",
       "      <td>country_4</td>\n",
       "      <td>2458151525</td>\n",
       "      <td>Africa</td>\n",
       "    </tr>\n",
       "    <tr>\n",
       "      <th>3</th>\n",
       "      <td>2018-01-01</td>\n",
       "      <td>03:36:18</td>\n",
       "      <td>read</td>\n",
       "      <td>country_5</td>\n",
       "      <td>2458151287</td>\n",
       "      <td>Asia</td>\n",
       "    </tr>\n",
       "    <tr>\n",
       "      <th>4</th>\n",
       "      <td>2018-01-01</td>\n",
       "      <td>03:40:42</td>\n",
       "      <td>read</td>\n",
       "      <td>country_5</td>\n",
       "      <td>2458151315</td>\n",
       "      <td>South America</td>\n",
       "    </tr>\n",
       "  </tbody>\n",
       "</table>\n",
       "</div>"
      ],
      "text/plain": [
       "      my_date   my_time event_type    country     user_id          topic\n",
       "0  2018-01-01  02:20:18       read  country_5  2458151287  North America\n",
       "1  2018-01-01  02:53:39       read  country_4  2458151279           Asia\n",
       "2  2018-01-01  03:34:22       read  country_4  2458151525         Africa\n",
       "3  2018-01-01  03:36:18       read  country_5  2458151287           Asia\n",
       "4  2018-01-01  03:40:42       read  country_5  2458151315  South America"
      ]
     },
     "execution_count": 4,
     "metadata": {},
     "output_type": "execute_result"
    }
   ],
   "source": [
    "ret_readers.head()"
   ]
  },
  {
   "cell_type": "code",
   "execution_count": 5,
   "id": "6301344a",
   "metadata": {},
   "outputs": [
    {
     "data": {
      "text/plain": [
       "my_date       210023\n",
       "my_time       210023\n",
       "event_type    210023\n",
       "country       210023\n",
       "user_id       210023\n",
       "source        210023\n",
       "topic         210023\n",
       "dtype: int64"
      ]
     },
     "execution_count": 5,
     "metadata": {},
     "output_type": "execute_result"
    }
   ],
   "source": [
    "new_readers.count()"
   ]
  },
  {
   "cell_type": "code",
   "execution_count": 6,
   "id": "190ca178",
   "metadata": {},
   "outputs": [
    {
     "data": {
      "text/plain": [
       "my_date       371854\n",
       "my_time       371854\n",
       "event_type    371854\n",
       "country       371854\n",
       "user_id       371854\n",
       "topic         371854\n",
       "dtype: int64"
      ]
     },
     "execution_count": 6,
     "metadata": {},
     "output_type": "execute_result"
    }
   ],
   "source": [
    "ret_readers.count()"
   ]
  },
  {
   "cell_type": "markdown",
   "id": "3fd4db2a",
   "metadata": {},
   "source": [
    "### Concatenation of the imported data frames "
   ]
  },
  {
   "cell_type": "code",
   "execution_count": 7,
   "id": "ffd5d328",
   "metadata": {},
   "outputs": [],
   "source": [
    "# to select the columns that will be used in the analysis\n",
    "new_readers = new_readers[['my_date', 'user_id']]\n",
    "ret_readers = ret_readers[['my_date', 'user_id']]"
   ]
  },
  {
   "cell_type": "code",
   "execution_count": 8,
   "id": "09904cff",
   "metadata": {},
   "outputs": [],
   "source": [
    "# concatenation\n",
    "conc_data = pd.concat([new_readers, ret_readers])"
   ]
  },
  {
   "cell_type": "code",
   "execution_count": 9,
   "id": "015c190f",
   "metadata": {},
   "outputs": [
    {
     "data": {
      "text/plain": [
       "my_date    581877\n",
       "user_id    581877\n",
       "dtype: int64"
      ]
     },
     "execution_count": 9,
     "metadata": {},
     "output_type": "execute_result"
    }
   ],
   "source": [
    "# to check if the concatenation was correct\n",
    "conc_data.count()"
   ]
  },
  {
   "cell_type": "code",
   "execution_count": 11,
   "id": "ff016f49",
   "metadata": {},
   "outputs": [
    {
     "data": {
      "text/html": [
       "<div>\n",
       "<style scoped>\n",
       "    .dataframe tbody tr th:only-of-type {\n",
       "        vertical-align: middle;\n",
       "    }\n",
       "\n",
       "    .dataframe tbody tr th {\n",
       "        vertical-align: top;\n",
       "    }\n",
       "\n",
       "    .dataframe thead th {\n",
       "        text-align: right;\n",
       "    }\n",
       "</style>\n",
       "<table border=\"1\" class=\"dataframe\">\n",
       "  <thead>\n",
       "    <tr style=\"text-align: right;\">\n",
       "      <th></th>\n",
       "      <th>my_date</th>\n",
       "      <th>user_id</th>\n",
       "    </tr>\n",
       "  </thead>\n",
       "  <tbody>\n",
       "    <tr>\n",
       "      <th>0</th>\n",
       "      <td>2018-01-01</td>\n",
       "      <td>2458151261</td>\n",
       "    </tr>\n",
       "    <tr>\n",
       "      <th>1</th>\n",
       "      <td>2018-01-01</td>\n",
       "      <td>2458151262</td>\n",
       "    </tr>\n",
       "    <tr>\n",
       "      <th>2</th>\n",
       "      <td>2018-01-01</td>\n",
       "      <td>2458151263</td>\n",
       "    </tr>\n",
       "    <tr>\n",
       "      <th>3</th>\n",
       "      <td>2018-01-01</td>\n",
       "      <td>2458151264</td>\n",
       "    </tr>\n",
       "    <tr>\n",
       "      <th>4</th>\n",
       "      <td>2018-01-01</td>\n",
       "      <td>2458151265</td>\n",
       "    </tr>\n",
       "    <tr>\n",
       "      <th>5</th>\n",
       "      <td>2018-01-01</td>\n",
       "      <td>2458151266</td>\n",
       "    </tr>\n",
       "    <tr>\n",
       "      <th>6</th>\n",
       "      <td>2018-01-01</td>\n",
       "      <td>2458151267</td>\n",
       "    </tr>\n",
       "    <tr>\n",
       "      <th>338439</th>\n",
       "      <td>2018-03-27</td>\n",
       "      <td>2458151267</td>\n",
       "    </tr>\n",
       "    <tr>\n",
       "      <th>7</th>\n",
       "      <td>2018-01-01</td>\n",
       "      <td>2458151268</td>\n",
       "    </tr>\n",
       "    <tr>\n",
       "      <th>8</th>\n",
       "      <td>2018-01-01</td>\n",
       "      <td>2458151269</td>\n",
       "    </tr>\n",
       "    <tr>\n",
       "      <th>9</th>\n",
       "      <td>2018-01-01</td>\n",
       "      <td>2458151270</td>\n",
       "    </tr>\n",
       "    <tr>\n",
       "      <th>10</th>\n",
       "      <td>2018-01-01</td>\n",
       "      <td>2458151271</td>\n",
       "    </tr>\n",
       "    <tr>\n",
       "      <th>188576</th>\n",
       "      <td>2018-03-04</td>\n",
       "      <td>2458151271</td>\n",
       "    </tr>\n",
       "    <tr>\n",
       "      <th>195416</th>\n",
       "      <td>2018-03-05</td>\n",
       "      <td>2458151271</td>\n",
       "    </tr>\n",
       "    <tr>\n",
       "      <th>196390</th>\n",
       "      <td>2018-03-05</td>\n",
       "      <td>2458151271</td>\n",
       "    </tr>\n",
       "    <tr>\n",
       "      <th>198604</th>\n",
       "      <td>2018-03-05</td>\n",
       "      <td>2458151271</td>\n",
       "    </tr>\n",
       "    <tr>\n",
       "      <th>11</th>\n",
       "      <td>2018-01-01</td>\n",
       "      <td>2458151272</td>\n",
       "    </tr>\n",
       "    <tr>\n",
       "      <th>12</th>\n",
       "      <td>2018-01-01</td>\n",
       "      <td>2458151273</td>\n",
       "    </tr>\n",
       "    <tr>\n",
       "      <th>129161</th>\n",
       "      <td>2018-02-24</td>\n",
       "      <td>2458151273</td>\n",
       "    </tr>\n",
       "    <tr>\n",
       "      <th>138291</th>\n",
       "      <td>2018-02-25</td>\n",
       "      <td>2458151273</td>\n",
       "    </tr>\n",
       "    <tr>\n",
       "      <th>140245</th>\n",
       "      <td>2018-02-25</td>\n",
       "      <td>2458151273</td>\n",
       "    </tr>\n",
       "    <tr>\n",
       "      <th>143002</th>\n",
       "      <td>2018-02-26</td>\n",
       "      <td>2458151273</td>\n",
       "    </tr>\n",
       "    <tr>\n",
       "      <th>144487</th>\n",
       "      <td>2018-02-26</td>\n",
       "      <td>2458151273</td>\n",
       "    </tr>\n",
       "    <tr>\n",
       "      <th>13</th>\n",
       "      <td>2018-01-01</td>\n",
       "      <td>2458151274</td>\n",
       "    </tr>\n",
       "    <tr>\n",
       "      <th>14</th>\n",
       "      <td>2018-01-01</td>\n",
       "      <td>2458151275</td>\n",
       "    </tr>\n",
       "    <tr>\n",
       "      <th>15</th>\n",
       "      <td>2018-01-01</td>\n",
       "      <td>2458151276</td>\n",
       "    </tr>\n",
       "    <tr>\n",
       "      <th>38223</th>\n",
       "      <td>2018-01-31</td>\n",
       "      <td>2458151276</td>\n",
       "    </tr>\n",
       "    <tr>\n",
       "      <th>39952</th>\n",
       "      <td>2018-02-01</td>\n",
       "      <td>2458151276</td>\n",
       "    </tr>\n",
       "    <tr>\n",
       "      <th>40857</th>\n",
       "      <td>2018-02-02</td>\n",
       "      <td>2458151276</td>\n",
       "    </tr>\n",
       "    <tr>\n",
       "      <th>41689</th>\n",
       "      <td>2018-02-02</td>\n",
       "      <td>2458151276</td>\n",
       "    </tr>\n",
       "  </tbody>\n",
       "</table>\n",
       "</div>"
      ],
      "text/plain": [
       "           my_date     user_id\n",
       "0       2018-01-01  2458151261\n",
       "1       2018-01-01  2458151262\n",
       "2       2018-01-01  2458151263\n",
       "3       2018-01-01  2458151264\n",
       "4       2018-01-01  2458151265\n",
       "5       2018-01-01  2458151266\n",
       "6       2018-01-01  2458151267\n",
       "338439  2018-03-27  2458151267\n",
       "7       2018-01-01  2458151268\n",
       "8       2018-01-01  2458151269\n",
       "9       2018-01-01  2458151270\n",
       "10      2018-01-01  2458151271\n",
       "188576  2018-03-04  2458151271\n",
       "195416  2018-03-05  2458151271\n",
       "196390  2018-03-05  2458151271\n",
       "198604  2018-03-05  2458151271\n",
       "11      2018-01-01  2458151272\n",
       "12      2018-01-01  2458151273\n",
       "129161  2018-02-24  2458151273\n",
       "138291  2018-02-25  2458151273\n",
       "140245  2018-02-25  2458151273\n",
       "143002  2018-02-26  2458151273\n",
       "144487  2018-02-26  2458151273\n",
       "13      2018-01-01  2458151274\n",
       "14      2018-01-01  2458151275\n",
       "15      2018-01-01  2458151276\n",
       "38223   2018-01-31  2458151276\n",
       "39952   2018-02-01  2458151276\n",
       "40857   2018-02-02  2458151276\n",
       "41689   2018-02-02  2458151276"
      ]
     },
     "execution_count": 11,
     "metadata": {},
     "output_type": "execute_result"
    }
   ],
   "source": [
    "conc_data.sort_values(['user_id', 'my_date']).head(30)   # it's not necessary for the analysis but could be useful to see"
   ]
  },
  {
   "cell_type": "markdown",
   "id": "a595f3c4",
   "metadata": {},
   "source": [
    "### Creating a nested list that contains the dates - dates that belong to the same user are in sublist"
   ]
  },
  {
   "cell_type": "code",
   "execution_count": 12,
   "id": "162fb65e",
   "metadata": {},
   "outputs": [],
   "source": [
    "nested_list = []\n",
    "ID = conc_data.user_id.min()\n",
    "diff = conc_data.user_id.max() - conc_data.user_id.min() # to calculate the number of iterations\n",
    "\n",
    "for i in range(diff):\n",
    "    sublist = conc_data[conc_data.user_id == ID].my_date.tolist()\n",
    "    nested_list.append(sublist)\n",
    "    ID += 1"
   ]
  },
  {
   "cell_type": "code",
   "execution_count": 13,
   "id": "1b196e6d",
   "metadata": {},
   "outputs": [
    {
     "data": {
      "text/plain": [
       "[['2018-01-01'],\n",
       " ['2018-01-01'],\n",
       " ['2018-01-01'],\n",
       " ['2018-01-01'],\n",
       " ['2018-01-01'],\n",
       " ['2018-01-01'],\n",
       " ['2018-01-01', '2018-03-27'],\n",
       " ['2018-01-01'],\n",
       " ['2018-01-01'],\n",
       " ['2018-01-01'],\n",
       " ['2018-01-01', '2018-03-04', '2018-03-05', '2018-03-05', '2018-03-05'],\n",
       " ['2018-01-01'],\n",
       " ['2018-01-01',\n",
       "  '2018-02-24',\n",
       "  '2018-02-25',\n",
       "  '2018-02-25',\n",
       "  '2018-02-26',\n",
       "  '2018-02-26'],\n",
       " ['2018-01-01'],\n",
       " ['2018-01-01'],\n",
       " ['2018-01-01',\n",
       "  '2018-01-31',\n",
       "  '2018-02-01',\n",
       "  '2018-02-02',\n",
       "  '2018-02-02',\n",
       "  '2018-02-03',\n",
       "  '2018-02-03'],\n",
       " ['2018-01-01'],\n",
       " ['2018-01-01', '2018-03-05'],\n",
       " ['2018-01-01',\n",
       "  '2018-01-01',\n",
       "  '2018-01-01',\n",
       "  '2018-01-02',\n",
       "  '2018-01-03',\n",
       "  '2018-01-04',\n",
       "  '2018-01-04',\n",
       "  '2018-01-04',\n",
       "  '2018-01-04',\n",
       "  '2018-01-05',\n",
       "  '2018-01-05',\n",
       "  '2018-01-06'],\n",
       " ['2018-01-01'],\n",
       " ['2018-01-01'],\n",
       " ['2018-01-01'],\n",
       " ['2018-01-01'],\n",
       " ['2018-01-01', '2018-01-28', '2018-01-29'],\n",
       " ['2018-01-01'],\n",
       " ['2018-01-01'],\n",
       " ['2018-01-01',\n",
       "  '2018-01-01',\n",
       "  '2018-01-01',\n",
       "  '2018-01-02',\n",
       "  '2018-01-03',\n",
       "  '2018-01-04',\n",
       "  '2018-01-04'],\n",
       " ['2018-01-01'],\n",
       " ['2018-01-01', '2018-02-19', '2018-02-20', '2018-02-21'],\n",
       " ['2018-01-01']]"
      ]
     },
     "execution_count": 13,
     "metadata": {},
     "output_type": "execute_result"
    }
   ],
   "source": [
    "nested_list[:30]"
   ]
  },
  {
   "cell_type": "markdown",
   "id": "d958b124",
   "metadata": {},
   "source": [
    "### Creating a list of dates"
   ]
  },
  {
   "cell_type": "code",
   "execution_count": 14,
   "id": "115f20d3",
   "metadata": {},
   "outputs": [],
   "source": [
    "dates = pd.date_range(start=\"2018-01-01\", end=\"2018-03-15\")  # the last two weeks are dropped\n",
    "date_list = [x.strftime(\"%Y-%m-%d\") for x in dates]"
   ]
  },
  {
   "cell_type": "markdown",
   "id": "d4d02c58",
   "metadata": {},
   "source": [
    "### Creating a data frame for the cohort analysis"
   ]
  },
  {
   "cell_type": "code",
   "execution_count": 15,
   "id": "b709341b",
   "metadata": {},
   "outputs": [],
   "source": [
    "chrt = []\n",
    "dys = []\n",
    "usrs = []\n",
    "\n",
    "for cohort_date in date_list:\n",
    "    days = 0\n",
    "    for act_date in date_list[date_list.index(cohort_date):date_list.index(cohort_date)+31]:\n",
    "        n_users = 0\n",
    "        for user in nested_list:\n",
    "            if act_date in user and user[0] == cohort_date:\n",
    "                n_users += 1\n",
    "        chrt.append(cohort_date)\n",
    "        dys.append(days)\n",
    "        usrs.append(n_users)\n",
    "        days += 1"
   ]
  },
  {
   "cell_type": "code",
   "execution_count": 16,
   "id": "0e60f58e",
   "metadata": {},
   "outputs": [],
   "source": [
    "# dictionary of the above lists\n",
    "cohort_dict = {'cohort':chrt, 'days_passed':dys, 'number_of_users':usrs}"
   ]
  },
  {
   "cell_type": "code",
   "execution_count": 17,
   "id": "05dcbcfc",
   "metadata": {},
   "outputs": [],
   "source": [
    "# the final data frame\n",
    "cohort_df = pd.DataFrame(cohort_dict)"
   ]
  },
  {
   "cell_type": "code",
   "execution_count": 18,
   "id": "1809e920",
   "metadata": {},
   "outputs": [
    {
     "data": {
      "text/html": [
       "<div>\n",
       "<style scoped>\n",
       "    .dataframe tbody tr th:only-of-type {\n",
       "        vertical-align: middle;\n",
       "    }\n",
       "\n",
       "    .dataframe tbody tr th {\n",
       "        vertical-align: top;\n",
       "    }\n",
       "\n",
       "    .dataframe thead th {\n",
       "        text-align: right;\n",
       "    }\n",
       "</style>\n",
       "<table border=\"1\" class=\"dataframe\">\n",
       "  <thead>\n",
       "    <tr style=\"text-align: right;\">\n",
       "      <th></th>\n",
       "      <th>cohort</th>\n",
       "      <th>days_passed</th>\n",
       "      <th>number_of_users</th>\n",
       "    </tr>\n",
       "  </thead>\n",
       "  <tbody>\n",
       "    <tr>\n",
       "      <th>0</th>\n",
       "      <td>2018-01-01</td>\n",
       "      <td>0</td>\n",
       "      <td>1795</td>\n",
       "    </tr>\n",
       "    <tr>\n",
       "      <th>1</th>\n",
       "      <td>2018-01-01</td>\n",
       "      <td>1</td>\n",
       "      <td>37</td>\n",
       "    </tr>\n",
       "    <tr>\n",
       "      <th>2</th>\n",
       "      <td>2018-01-01</td>\n",
       "      <td>2</td>\n",
       "      <td>28</td>\n",
       "    </tr>\n",
       "    <tr>\n",
       "      <th>3</th>\n",
       "      <td>2018-01-01</td>\n",
       "      <td>3</td>\n",
       "      <td>35</td>\n",
       "    </tr>\n",
       "    <tr>\n",
       "      <th>4</th>\n",
       "      <td>2018-01-01</td>\n",
       "      <td>4</td>\n",
       "      <td>26</td>\n",
       "    </tr>\n",
       "  </tbody>\n",
       "</table>\n",
       "</div>"
      ],
      "text/plain": [
       "       cohort  days_passed  number_of_users\n",
       "0  2018-01-01            0             1795\n",
       "1  2018-01-01            1               37\n",
       "2  2018-01-01            2               28\n",
       "3  2018-01-01            3               35\n",
       "4  2018-01-01            4               26"
      ]
     },
     "execution_count": 18,
     "metadata": {},
     "output_type": "execute_result"
    }
   ],
   "source": [
    "cohort_df.head()"
   ]
  },
  {
   "cell_type": "markdown",
   "id": "c2b7018d",
   "metadata": {},
   "source": [
    "### Heatmap to plot the results"
   ]
  },
  {
   "cell_type": "markdown",
   "id": "fa7afaf0",
   "metadata": {},
   "source": [
    "The number of the users were log transformed. Otherwise, the very high number of new users in each cohort, compared to the amount of returning users, masked any pattern."
   ]
  },
  {
   "cell_type": "code",
   "execution_count": 19,
   "id": "66a3c320",
   "metadata": {},
   "outputs": [],
   "source": [
    "# log transformation\n",
    "cohort_df['log2_values'] = np.log2(cohort_df['number_of_users'])\n",
    "cohort_df['log10_values'] = np.log10(cohort_df['number_of_users'])"
   ]
  },
  {
   "cell_type": "code",
   "execution_count": 20,
   "id": "90e74db3",
   "metadata": {},
   "outputs": [
    {
     "data": {
      "image/png": "[encoded data removed]",
      "text/plain": [
       "<Figure size 720x1440 with 2 Axes>"
      ]
     },
     "metadata": {
      "needs_background": "light"
     },
     "output_type": "display_data"
    }
   ],
   "source": [
    "# pivot the df to make it accessible for the heatmap\n",
    "cohort_pivot = cohort_df.pivot(index='cohort', columns='days_passed', values='log2_values')\n",
    "\n",
    "# heatmap - log2 transformed values were used\n",
    "plt.figure(figsize=(10,20))\n",
    "sns.heatmap(cohort_pivot, cmap='Reds')\n",
    "plt.ylabel('Cohort')\n",
    "plt.xlabel('Days passed')\n",
    "plt.show()"
   ]
  }
 ],
 "metadata": {
  "kernelspec": {
   "display_name": "Python 3",
   "language": "python",
   "name": "python3"
  },
  "language_info": {
   "codemirror_mode": {
    "name": "ipython",
    "version": 3
   },
   "file_extension": ".py",
   "mimetype": "text/x-python",
   "name": "python",
   "nbconvert_exporter": "python",
   "pygments_lexer": "ipython3",
   "version": "3.6.9"
  }
 },
 "nbformat": 4,
 "nbformat_minor": 5
}
